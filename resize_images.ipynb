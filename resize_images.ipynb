{
 "cells": [
  {
   "cell_type": "markdown",
   "id": "f5c91cc8",
   "metadata": {},
   "source": [
    "## Resizing images to 256 pixels"
   ]
  },
  {
   "cell_type": "code",
   "execution_count": 1,
   "id": "a4e37dac",
   "metadata": {},
   "outputs": [],
   "source": [
    "from PIL import Image\n",
    "import os\n"
   ]
  },
  {
   "cell_type": "code",
   "execution_count": 3,
   "id": "57b2d90c",
   "metadata": {},
   "outputs": [
    {
     "name": "stderr",
     "output_type": "stream",
     "text": [
      "<>:2: SyntaxWarning: invalid escape sequence '\\m'\n",
      "<>:2: SyntaxWarning: invalid escape sequence '\\m'\n",
      "C:\\Users\\NGARE\\AppData\\Local\\Temp\\ipykernel_6096\\82698930.py:2: SyntaxWarning: invalid escape sequence '\\m'\n",
      "  input_folder = \"dataset\\mood11\"  # original dataset\n"
     ]
    }
   ],
   "source": [
    "\n",
    "# Paths\n",
    "input_folder = \"dataset\\mood11\"  # original dataset\n",
    "output_folder = \"mood_resized1\"  # resized dataset\n",
    "target_size = (254, 254)\n",
    "\n",
    "# Create output folder structure\n",
    "if not os.path.exists(output_folder):\n",
    "    os.makedirs(output_folder)\n",
    "\n",
    "for class_name in os.listdir(input_folder):\n",
    "    class_path = os.path.join(input_folder, class_name)\n",
    "    if os.path.isdir(class_path):\n",
    "        output_class_path = os.path.join(output_folder, class_name)\n",
    "        os.makedirs(output_class_path, exist_ok=True)\n",
    "        \n",
    "        for image_name in os.listdir(class_path):\n",
    "            image_path = os.path.join(class_path, image_name)\n",
    "            try:\n",
    "                img = Image.open(image_path).convert(\"RGB\")\n",
    "                img = img.resize(target_size)\n",
    "                img.save(os.path.join(output_class_path, image_name))\n",
    "            except Exception as e:\n",
    "                print(f\"Error resizing {image_name}: {e}\")\n"
   ]
  }
 ],
 "metadata": {
  "kernelspec": {
   "display_name": "fvenv (3.12.10)",
   "language": "python",
   "name": "python3"
  },
  "language_info": {
   "codemirror_mode": {
    "name": "ipython",
    "version": 3
   },
   "file_extension": ".py",
   "mimetype": "text/x-python",
   "name": "python",
   "nbconvert_exporter": "python",
   "pygments_lexer": "ipython3",
   "version": "3.12.10"
  }
 },
 "nbformat": 4,
 "nbformat_minor": 5
}
