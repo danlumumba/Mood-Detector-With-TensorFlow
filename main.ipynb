{
 "cells": [
  {
   "cell_type": "markdown",
   "id": "1b7610ec",
   "metadata": {},
   "source": [
    "## Mood Detector With Tensorflow"
   ]
  }
 ],
 "metadata": {
  "kernelspec": {
   "display_name": "venv (3.12.10)",
   "language": "python",
   "name": "python3"
  },
  "language_info": {
   "name": "python",
   "version": "3.12.10"
  }
 },
 "nbformat": 4,
 "nbformat_minor": 5
}
